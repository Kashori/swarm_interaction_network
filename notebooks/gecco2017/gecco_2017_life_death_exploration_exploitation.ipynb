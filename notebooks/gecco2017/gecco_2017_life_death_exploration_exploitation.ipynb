{
 "cells": [
  {
   "cell_type": "code",
   "execution_count": 69,
   "metadata": {
    "collapsed": false
   },
   "outputs": [],
   "source": [
    "\n",
    "import pandas as pd\n",
    "import matplotlib.pyplot as plt\n",
    "from multiprocessing import Pool\n",
    "# import swarm_analyzer as sa\n",
    "# reload(sa)\n",
    "\n",
    "%run '../../swarm_analyzer.py'\n"
   ]
  },
  {
   "cell_type": "code",
   "execution_count": 53,
   "metadata": {
    "collapsed": false
   },
   "outputs": [
    {
     "name": "stdout",
     "output_type": "stream",
     "text": [
      "[None, None, None, None, None]\n",
      "CPU times: user 642 ms, sys: 250 ms, total: 893 ms\n",
      "Wall time: 2min 3s\n"
     ]
    }
   ],
   "source": [
    "def f(x):\n",
    "    [i for i in range(100000000)]\n",
    "\n",
    "\n",
    "p = Pool(5)\n",
    "%time print(p.map(f, [1, 2, 3, 4, 5]))"
   ]
  },
  {
   "cell_type": "code",
   "execution_count": 54,
   "metadata": {
    "collapsed": false
   },
   "outputs": [
    {
     "name": "stdout",
     "output_type": "stream",
     "text": [
      "[None, None, None, None, None]\n",
      "CPU times: user 1min 11s, sys: 19.1 s, total: 1min 30s\n",
      "Wall time: 1min 34s\n"
     ]
    }
   ],
   "source": [
    "%time print(map(f, [1, 2, 3, 4, 5]))"
   ]
  },
  {
   "cell_type": "code",
   "execution_count": 52,
   "metadata": {
    "collapsed": false
   },
   "outputs": [
    {
     "name": "stdout",
     "output_type": "stream",
     "text": [
      "\n",
      "CPU times: user 89 µs, sys: 51 µs, total: 140 µs\n",
      "Wall time: 121 µs\n"
     ]
    }
   ],
   "source": [
    "# %timeit -n10 print('')\n",
    "%time print('')"
   ]
  },
  {
   "cell_type": "markdown",
   "metadata": {},
   "source": [
    "# DataFrame Format\n",
    "- Columns = Pairs of particles \n",
    "- Rows iterations"
   ]
  },
  {
   "cell_type": "code",
   "execution_count": 59,
   "metadata": {
    "collapsed": true
   },
   "outputs": [],
   "source": [
    "# Data frame format\n",
    "data_path = '../../data/kregular30_F23_00.with_positions_fluctuations_correlation'"
   ]
  },
  {
   "cell_type": "code",
   "execution_count": 60,
   "metadata": {
    "collapsed": false
   },
   "outputs": [
    {
     "ename": "NameError",
     "evalue": "name 'topology' is not defined",
     "output_type": "error",
     "traceback": [
      "\u001b[0;31m---------------------------------------------------------------------------\u001b[0m",
      "\u001b[0;31mNameError\u001b[0m                                 Traceback (most recent call last)",
      "\u001b[0;32m<ipython-input-60-54ed1e9a5f5b>\u001b[0m in \u001b[0;36m<module>\u001b[0;34m()\u001b[0m\n\u001b[1;32m      4\u001b[0m \u001b[0mrun\u001b[0m \u001b[0;34m=\u001b[0m \u001b[0;36m0\u001b[0m\u001b[0;34m\u001b[0m\u001b[0m\n\u001b[1;32m      5\u001b[0m \u001b[0mkind\u001b[0m \u001b[0;34m=\u001b[0m \u001b[0;34m\"fluctuations\"\u001b[0m\u001b[0;34m\u001b[0m\u001b[0m\n\u001b[0;32m----> 6\u001b[0;31m \u001b[0moutput_filename\u001b[0m\u001b[0;34m=\u001b[0m\u001b[0;34m\"alphas/alphas_%s_%s_F%02d_%02d.png\"\u001b[0m \u001b[0;34m%\u001b[0m \u001b[0;34m(\u001b[0m\u001b[0mkind\u001b[0m\u001b[0;34m,\u001b[0m \u001b[0mtopology\u001b[0m\u001b[0;34m,\u001b[0m \u001b[0mfunction\u001b[0m\u001b[0;34m,\u001b[0m \u001b[0mrun\u001b[0m\u001b[0;34m)\u001b[0m\u001b[0;34m\u001b[0m\u001b[0m\n\u001b[0m",
      "\u001b[0;31mNameError\u001b[0m: name 'topology' is not defined"
     ]
    }
   ],
   "source": [
    "# topologies = [(\"kregular%d\" % i) for i in [3, 4, 5, 6, 7, 8, 9, 10, 20, 30, 40, 50, 60, 70, 80, 90]]\n",
    "topologies = [(\"kregular%d\" % i) for i in [30]]\n",
    "functions = [23]\n",
    "run = 0\n",
    "kind = \"fluctuations\"\n",
    "output_filename=\"alphas/alphas_%s_%s_F%02d_%02d.png\" % (kind, topology, function, run)\n"
   ]
  },
  {
   "cell_type": "code",
   "execution_count": 61,
   "metadata": {
    "collapsed": false
   },
   "outputs": [
    {
     "ename": "NameError",
     "evalue": "name 'function' is not defined",
     "output_type": "error",
     "traceback": [
      "\u001b[0;31m---------------------------------------------------------------------------\u001b[0m",
      "\u001b[0;31mNameError\u001b[0m                                 Traceback (most recent call last)",
      "\u001b[0;32m<ipython-input-61-d5eb68527224>\u001b[0m in \u001b[0;36m<module>\u001b[0;34m()\u001b[0m\n\u001b[1;32m      1\u001b[0m \u001b[0;32mfor\u001b[0m \u001b[0mtopology\u001b[0m \u001b[0;32min\u001b[0m \u001b[0mtopologies\u001b[0m\u001b[0;34m:\u001b[0m\u001b[0;34m\u001b[0m\u001b[0m\n\u001b[0;32m----> 2\u001b[0;31m     \u001b[0mfilename_hdf\u001b[0m \u001b[0;34m=\u001b[0m \u001b[0;34m\"correlations/%s_F%02d_%02d.with_positions_%s_correlation.hdf\"\u001b[0m \u001b[0;34m%\u001b[0m \u001b[0;34m(\u001b[0m\u001b[0mtopology\u001b[0m\u001b[0;34m,\u001b[0m \u001b[0mfunction\u001b[0m\u001b[0;34m,\u001b[0m \u001b[0mrun\u001b[0m\u001b[0;34m,\u001b[0m \u001b[0mkind\u001b[0m\u001b[0;34m)\u001b[0m\u001b[0;34m\u001b[0m\u001b[0m\n\u001b[0m",
      "\u001b[0;31mNameError\u001b[0m: name 'function' is not defined"
     ]
    }
   ],
   "source": [
    "for topology in topologies:\n",
    "    filename_hdf = \"correlations/%s_F%02d_%02d.with_positions_%s_correlation.hdf\" % (topology, function, run, kind)"
   ]
  },
  {
   "cell_type": "code",
   "execution_count": 70,
   "metadata": {
    "collapsed": true
   },
   "outputs": [],
   "source": [
    "iterations = 6000\n",
    "bins = np.arange(0, 1.01, 0.01)"
   ]
  },
  {
   "cell_type": "code",
   "execution_count": 71,
   "metadata": {
    "collapsed": false
   },
   "outputs": [],
   "source": [
    "alphas = SwarmAnalyzer.get_alphas(data_path, bins, iterations=iterations)"
   ]
  },
  {
   "cell_type": "code",
   "execution_count": 72,
   "metadata": {
    "collapsed": false
   },
   "outputs": [
    {
     "data": {
      "image/png": "[encoded data removed]",
      "text/plain": [
       "<matplotlib.figure.Figure at 0x1376f4910>"
      ]
     },
     "metadata": {},
     "output_type": "display_data"
    }
   ],
   "source": [
    "plt.plot(np.arange(iterations-1), alphas)\n",
    "plt.show()"
   ]
  },
  {
   "cell_type": "markdown",
   "metadata": {
    "collapsed": true
   },
   "source": [
    "# Line fitting \n",
    "\n",
    "For each iteration, and the \n",
    "\n",
    " - Distribution of coordinated fluctuations\n",
    " - calculate the entropy \n",
    " -  $\\alpha$ of the line fitting.\n",
    "\n",
    "* OUTPUT\n",
    "    - HDF \n",
    "        - Rows: Particles x Iteration \n",
    "        - Columns: Entropy x alpha\n",
    "\n",
    "    - PLOTS\n",
    "        - Alpha x Iteration \n",
    "        - Entropy x Iteration\n",
    "        - CORR(alplha, entropy) ?\n",
    "        - CCDF of Alpha for all run \n",
    "\n",
    "\n",
    "The dataframe name is ''\n",
    "\n",
    "\n",
    "\n"
   ]
  },
  {
   "cell_type": "code",
   "execution_count": null,
   "metadata": {
    "collapsed": true
   },
   "outputs": [],
   "source": []
  }
 ],
 "metadata": {
  "anaconda-cloud": {},
  "kernelspec": {
   "display_name": "Python [conda root]",
   "language": "python",
   "name": "conda-root-py"
  },
  "language_info": {
   "codemirror_mode": {
    "name": "ipython",
    "version": 2
   },
   "file_extension": ".py",
   "mimetype": "text/x-python",
   "name": "python",
   "nbconvert_exporter": "python",
   "pygments_lexer": "ipython2",
   "version": "2.7.12"
  }
 },
 "nbformat": 4,
 "nbformat_minor": 1
}
