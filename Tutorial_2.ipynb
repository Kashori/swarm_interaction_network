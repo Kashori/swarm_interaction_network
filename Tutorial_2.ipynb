{
 "cells": [
  {
   "cell_type": "markdown",
   "metadata": {
    "deletable": true,
    "editable": true
   },
   "source": [
    "# The information flow within a swarm\n",
    "Here we are going to create the heatmaps in:\n",
    "> Oliveira, Marcos, et al. \"Communication Diversity in Particle Swarm Optimizers.\" International Conference on Swarm Intelligence. Springer International Publishing, 2016. https://doi.org/10.1007/978-3-319-44427-7_7\n",
    "\n",
    "```tex\n",
    "@inproceedings{oliveira2016communication,\n",
    "  title={Communication Diversity in Particle Swarm Optimizers},\n",
    "  author={Oliveira, Marcos and Pinheiro, Diego and Andrade, Bruno and Bastos-Filho, Carmelo and Menezes, Ronaldo},\n",
    "  booktitle={International Conference on Swarm Intelligence},\n",
    "  pages={77--88},\n",
    "  year={2016},\n",
    "  organization={Springer}\n",
    "}\n",
    "```"
   ]
  },
  {
   "cell_type": "code",
   "execution_count": 1,
   "metadata": {
    "collapsed": true,
    "deletable": true,
    "editable": true
   },
   "outputs": [],
   "source": [
    "%matplotlib inline\n",
    "%config InlineBackend.figure_format = 'retina'\n",
    "import pandas as pd\n",
    "from opt.giant_component_analysis_plotter import GiantComponentDeathPlotter\n",
    "from opt.giant_component_analysis_helper import GiantComponentDeathHelper"
   ]
  },
  {
   "cell_type": "markdown",
   "metadata": {
    "deletable": true,
    "editable": true
   },
   "source": [
    "First we create interaction graphs using different time windows, then we remove the edges from the graphs based on the weight, and finally count the number of components that emerge. \n",
    "\n",
    "Let's follow this procedure for single simulations of the PSO with the swarm using different topologies:"
   ]
  },
  {
   "cell_type": "markdown",
   "metadata": {
    "deletable": true,
    "editable": true
   },
   "source": [
    "## Von Neumann"
   ]
  },
  {
   "cell_type": "code",
   "execution_count": 2,
   "metadata": {
    "collapsed": true,
    "deletable": true,
    "editable": true
   },
   "outputs": [],
   "source": [
    "filename = './data/vonneumann_F06_15'"
   ]
  },
  {
   "cell_type": "markdown",
   "metadata": {
    "deletable": true,
    "editable": true
   },
   "source": [
    "It might take time to evaluate the destruction of the graph, so we save the output in a ``hdf`` file."
   ]
  },
  {
   "cell_type": "code",
   "execution_count": 3,
   "metadata": {
    "collapsed": true,
    "deletable": true,
    "editable": true
   },
   "outputs": [],
   "source": [
    "# df = GiantComponentDeathHelper.get_number_of_component_different_time_windows(filename, calculate_on=1000)\n",
    "# df.to_hdf(filename + \"_components.hdf\", 'df')"
   ]
  },
  {
   "cell_type": "code",
   "execution_count": 4,
   "metadata": {
    "collapsed": false,
    "deletable": true,
    "editable": true
   },
   "outputs": [],
   "source": [
    "df = pd.read_hdf(filename + \"_components.hdf\", 'df')"
   ]
  },
  {
   "cell_type": "markdown",
   "metadata": {
    "deletable": true,
    "editable": true
   },
   "source": [
    "Let's see the patterns of the interactions within the swarm:"
   ]
  },
  {
   "cell_type": "code",
   "execution_count": 5,
   "metadata": {
    "collapsed": false,
    "deletable": true,
    "editable": true,
    "scrolled": true
   },
   "outputs": [
    {
     "data": {
      "image/png": "[encoded data removed]",
      "text/plain": [
       "<matplotlib.figure.Figure at 0x7f9f274198d0>"
      ]
     },
     "metadata": {
      "image/png": {
       "height": 244,
       "width": 273
      }
     },
     "output_type": "display_data"
    }
   ],
   "source": [
    "GiantComponentDeathPlotter.giant_component_death_heatmap(df);"
   ]
  },
  {
   "cell_type": "markdown",
   "metadata": {
    "deletable": true,
    "editable": true
   },
   "source": [
    "This is Fig 4. in the paper. "
   ]
  },
  {
   "cell_type": "markdown",
   "metadata": {
    "deletable": true,
    "editable": true
   },
   "source": [
    "## Global"
   ]
  },
  {
   "cell_type": "code",
   "execution_count": 6,
   "metadata": {
    "collapsed": true,
    "deletable": true,
    "editable": true
   },
   "outputs": [],
   "source": [
    "filename = './data/global_F06_15'"
   ]
  },
  {
   "cell_type": "markdown",
   "metadata": {
    "deletable": true,
    "editable": true
   },
   "source": [
    "It might take time to evaluate the destruction of the graph, so we save the output in a ``hdf`` file."
   ]
  },
  {
   "cell_type": "code",
   "execution_count": 7,
   "metadata": {
    "collapsed": true,
    "deletable": true,
    "editable": true
   },
   "outputs": [],
   "source": [
    "# df = GiantComponentDeathHelper.get_number_of_component_different_time_windows(filename, calculate_on=1000)\n",
    "# df.to_hdf(filename + \"_components.hdf\", 'df')"
   ]
  },
  {
   "cell_type": "code",
   "execution_count": 8,
   "metadata": {
    "collapsed": true,
    "deletable": true,
    "editable": true
   },
   "outputs": [],
   "source": [
    "df = pd.read_hdf(filename + \"_components.hdf\", 'df')"
   ]
  },
  {
   "cell_type": "markdown",
   "metadata": {
    "deletable": true,
    "editable": true
   },
   "source": [
    "Let's see the patterns of the interactions within the swarm:"
   ]
  },
  {
   "cell_type": "code",
   "execution_count": 9,
   "metadata": {
    "collapsed": false,
    "deletable": true,
    "editable": true,
    "scrolled": false
   },
   "outputs": [
    {
     "data": {
      "image/png": "[encoded data removed]",
      "text/plain": [
       "<matplotlib.figure.Figure at 0x7f9f1b4400d0>"
      ]
     },
     "metadata": {
      "image/png": {
       "height": 244,
       "width": 273
      }
     },
     "output_type": "display_data"
    }
   ],
   "source": [
    "GiantComponentDeathPlotter.giant_component_death_heatmap(df);"
   ]
  },
  {
   "cell_type": "markdown",
   "metadata": {
    "deletable": true,
    "editable": true
   },
   "source": [
    "## Ring"
   ]
  },
  {
   "cell_type": "code",
   "execution_count": 10,
   "metadata": {
    "collapsed": true,
    "deletable": true,
    "editable": true
   },
   "outputs": [],
   "source": [
    "filename = './data/ring_F06_15'"
   ]
  },
  {
   "cell_type": "markdown",
   "metadata": {
    "deletable": true,
    "editable": true
   },
   "source": [
    "It might take time to evaluate the destruction of the graph, so we save the output in a ``hdf`` file."
   ]
  },
  {
   "cell_type": "code",
   "execution_count": 11,
   "metadata": {
    "collapsed": true,
    "deletable": true,
    "editable": true
   },
   "outputs": [],
   "source": [
    "# df = GiantComponentDeathHelper.get_number_of_component_different_time_windows(filename, calculate_on=1000)\n",
    "# df.to_hdf(filename + \"_components.hdf\", 'df')"
   ]
  },
  {
   "cell_type": "code",
   "execution_count": 12,
   "metadata": {
    "collapsed": true,
    "deletable": true,
    "editable": true
   },
   "outputs": [],
   "source": [
    "df = pd.read_hdf(filename + \"_components.hdf\", 'df')"
   ]
  },
  {
   "cell_type": "markdown",
   "metadata": {
    "deletable": true,
    "editable": true
   },
   "source": [
    "Let's see the patterns of the interactions within the swarm:"
   ]
  },
  {
   "cell_type": "code",
   "execution_count": 13,
   "metadata": {
    "collapsed": false,
    "deletable": true,
    "editable": true,
    "scrolled": false
   },
   "outputs": [
    {
     "data": {
      "image/png": "[encoded data removed]",
      "text/plain": [
       "<matplotlib.figure.Figure at 0x7f9f27419890>"
      ]
     },
     "metadata": {
      "image/png": {
       "height": 244,
       "width": 273
      }
     },
     "output_type": "display_data"
    }
   ],
   "source": [
    "GiantComponentDeathPlotter.giant_component_death_heatmap(df);"
   ]
  },
  {
   "cell_type": "markdown",
   "metadata": {
    "deletable": true,
    "editable": true
   },
   "source": [
    "Let's see the patterns of the interactions within the swarm:"
   ]
  },
  {
   "cell_type": "markdown",
   "metadata": {
    "deletable": true,
    "editable": true
   },
   "source": [
    "## Dynamic"
   ]
  },
  {
   "cell_type": "code",
   "execution_count": 14,
   "metadata": {
    "collapsed": true,
    "deletable": true,
    "editable": true
   },
   "outputs": [],
   "source": [
    "filename = './data/dynamicring_F06_15'"
   ]
  },
  {
   "cell_type": "markdown",
   "metadata": {
    "deletable": true,
    "editable": true
   },
   "source": [
    "It might take time to evaluate the destruction of the graph, so we save the output in a ``hdf`` file."
   ]
  },
  {
   "cell_type": "code",
   "execution_count": 15,
   "metadata": {
    "collapsed": true,
    "deletable": true,
    "editable": true
   },
   "outputs": [],
   "source": [
    "# df = GiantComponentDeathHelper.get_number_of_component_different_time_windows(filename, calculate_on=1000)\n",
    "# df.to_hdf(filename + \"_components.hdf\", 'df')"
   ]
  },
  {
   "cell_type": "code",
   "execution_count": 16,
   "metadata": {
    "collapsed": true,
    "deletable": true,
    "editable": true
   },
   "outputs": [],
   "source": [
    "df = pd.read_hdf(filename + \"_components.hdf\", 'df')"
   ]
  },
  {
   "cell_type": "markdown",
   "metadata": {
    "deletable": true,
    "editable": true
   },
   "source": [
    "Let's see the patterns of the interactions within the swarm:"
   ]
  },
  {
   "cell_type": "code",
   "execution_count": 17,
   "metadata": {
    "collapsed": false,
    "deletable": true,
    "editable": true,
    "scrolled": false
   },
   "outputs": [
    {
     "data": {
      "image/png": "[encoded data removed]",
      "text/plain": [
       "<matplotlib.figure.Figure at 0x7f9f0faafe50>"
      ]
     },
     "metadata": {
      "image/png": {
       "height": 244,
       "width": 273
      }
     },
     "output_type": "display_data"
    }
   ],
   "source": [
    "GiantComponentDeathPlotter.giant_component_death_heatmap(df);"
   ]
  }
 ],
 "metadata": {
  "kernelspec": {
   "display_name": "Python 2",
   "language": "python",
   "name": "python2"
  },
  "language_info": {
   "codemirror_mode": {
    "name": "ipython",
    "version": 2
   },
   "file_extension": ".py",
   "mimetype": "text/x-python",
   "name": "python",
   "nbconvert_exporter": "python",
   "pygments_lexer": "ipython2",
   "version": "2.7.6"
  }
 },
 "nbformat": 4,
 "nbformat_minor": 2
}
